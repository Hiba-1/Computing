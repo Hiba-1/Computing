{
  "nbformat": 4,
  "nbformat_minor": 0,
  "metadata": {
    "colab": {
      "provenance": []
    },
    "kernelspec": {
      "name": "python3",
      "display_name": "Python 3"
    },
    "language_info": {
      "name": "python"
    }
  },
  "cells": [
    {
      "cell_type": "code",
      "execution_count": 20,
      "metadata": {
        "colab": {
          "base_uri": "https://localhost:8080/"
        },
        "id": "s1V0DInnQgF3",
        "outputId": "0b342f09-17d3-4c32-861e-1875c026a6b0"
      },
      "outputs": [
        {
          "output_type": "stream",
          "name": "stdout",
          "text": [
            "[]\n",
            "1\n",
            "2\n",
            "3\n",
            "4\n",
            "5\n",
            "[1, 2, 3, 4, 5]\n",
            "[1, 2, 3]\n"
          ]
        }
      ],
      "source": [
        "stack=[]\n",
        "def printfunc():     #To print the given thing\n",
        "  print(stack)\n",
        "printfunc()\n",
        "def stackappend():   #To add the element in the same order as it entered\n",
        "  stack.append(int(input(\"\")))\n",
        "\n",
        "def stackpop():      #To remove the element from the right hand side\n",
        "  stack.pop()\n",
        "\n",
        "stackappend()\n",
        "stackappend()\n",
        "stackappend()\n",
        "stackappend()\n",
        "stackappend()\n",
        "printfunc()\n",
        "\n",
        "stackpop()\n",
        "stackpop()\n",
        "printfunc()\n",
        "\n",
        "\n",
        "\n",
        "\n"
      ]
    },
    {
      "cell_type": "code",
      "source": [
        "Queue=[]\n",
        "def printfunc():      #To print the given thing\n",
        "  print(Queue)\n",
        "printfunc()\n",
        "\n",
        "def Queueappend():    #To add the element in the same order as it entered\n",
        "  Queue.append(int(input()))\n",
        "\n",
        "def Queuepop():       #To remove the element from the left hand side\n",
        "  Queue.pop(0)\n",
        "\n",
        "Queueappend()\n",
        "Queueappend()\n",
        "Queueappend()\n",
        "Queueappend()\n",
        "Queueappend()\n",
        "Queueappend()\n",
        "Queueappend()\n",
        "Queueappend()\n",
        "\n",
        "\n",
        "\n",
        "printfunc()\n",
        "Queuepop()\n",
        "Queuepop()\n",
        "Queuepop()\n",
        "printfunc()\n",
        "\n"
      ],
      "metadata": {
        "colab": {
          "base_uri": "https://localhost:8080/"
        },
        "id": "sNvpVAbzd19D",
        "outputId": "4acf8fa0-5bbd-4112-fbe9-9e1847a84fdd"
      },
      "execution_count": 27,
      "outputs": [
        {
          "output_type": "stream",
          "name": "stdout",
          "text": [
            "[]\n",
            "1\n",
            "2\n",
            "3\n",
            "4\n",
            "5\n",
            "6\n",
            "7\n",
            "8\n",
            "[1, 2, 3, 4, 5, 6, 7, 8]\n",
            "[4, 5, 6, 7, 8]\n"
          ]
        }
      ]
    }
  ]
}