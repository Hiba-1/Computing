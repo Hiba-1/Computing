{
  "nbformat": 4,
  "nbformat_minor": 0,
  "metadata": {
    "colab": {
      "provenance": []
    },
    "kernelspec": {
      "name": "python3",
      "display_name": "Python 3"
    },
    "language_info": {
      "name": "python"
    }
  },
  "cells": [
    {
      "cell_type": "code",
      "execution_count": 7,
      "metadata": {
        "colab": {
          "base_uri": "https://localhost:8080/"
        },
        "id": "pMxL2QAZGnI9",
        "outputId": "b7a89ad9-3ac0-4fd1-efbe-aa52a71eaf7d"
      },
      "outputs": [
        {
          "output_type": "stream",
          "name": "stdout",
          "text": [
            "The Euclidean distance between the points is: 5.196152422706632\n"
          ]
        }
      ],
      "source": [
        "import math\n",
        "\n",
        "class Point3D:\n",
        "    def __init__(self, x, y, z):\n",
        "        self.x = x\n",
        "        self.y = y\n",
        "        self.z = z\n",
        "\n",
        "    def distance_to(self, other_point):\n",
        "        return math.sqrt((self.x - other_point.x) ** 2 +\n",
        "                         (self.y - other_point.y) ** 2 +\n",
        "                         (self.z - other_point.z) ** 2)\n",
        "\n",
        "# Example\n",
        "point1 = Point3D(1,2,3)\n",
        "\n",
        "\n",
        "distance = point1.distance_to(point2)\n",
        "print(f\"The Euclidean distance between the points is: {distance}\")"
      ]
    }
  ]
}